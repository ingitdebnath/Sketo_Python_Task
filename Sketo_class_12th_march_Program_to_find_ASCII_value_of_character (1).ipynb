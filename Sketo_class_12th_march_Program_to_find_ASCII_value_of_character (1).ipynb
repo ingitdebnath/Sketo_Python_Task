{
  "nbformat": 4,
  "nbformat_minor": 0,
  "metadata": {
    "colab": {
      "provenance": []
    },
    "kernelspec": {
      "name": "python3",
      "display_name": "Python 3"
    },
    "language_info": {
      "name": "python"
    }
  },
  "cells": [
    {
      "cell_type": "code",
      "source": [
        "var_str=str(input(\"Enter a single character--\"))\n",
        "if (len(var_str)>1):\n",
        "  print(\"do not enter more than 1 character\")\n",
        "  var_str=str(input(\"Enter a single character--\"))\n",
        "  print(ord(var_str))\n",
        "else :\n",
        "  print(ord(var_str))"
      ],
      "metadata": {
        "id": "FOG4A97-VDQ9",
        "colab": {
          "base_uri": "https://localhost:8080/"
        },
        "outputId": "6e083a39-3222-4e58-df02-5a191058f9b0"
      },
      "execution_count": 2,
      "outputs": [
        {
          "output_type": "stream",
          "name": "stdout",
          "text": [
            "Enter a single character--we\n",
            "do not enter more than 1 character\n",
            "Enter a single character--A\n",
            "65\n"
          ]
        }
      ]
    }
  ]
}