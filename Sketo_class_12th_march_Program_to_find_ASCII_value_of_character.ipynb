{
  "nbformat": 4,
  "nbformat_minor": 0,
  "metadata": {
    "colab": {
      "provenance": []
    },
    "kernelspec": {
      "name": "python3",
      "display_name": "Python 3"
    },
    "language_info": {
      "name": "python"
    }
  },
  "cells": [
    {
      "cell_type": "code",
      "execution_count": null,
      "metadata": {
        "colab": {
          "base_uri": "https://localhost:8080/"
        },
        "id": "87EDKrlLjR71",
        "outputId": "52ffff68-a6ce-4f3a-cf49-3bd0417a054e"
      },
      "outputs": [
        {
          "output_type": "stream",
          "name": "stdout",
          "text": [
            "Enter the first number 45\n",
            "Enter the second number 2\n",
            "product of above two number is 90.0\n"
          ]
        }
      ],
      "source": [
        "var_5=float(input(\"Enter the first number \"))\n",
        "var_4=float(input(\"Enter the second number \"))\n",
        "var_6=var_4*var_5\n",
        "print(\"product of above two number is\",var_6)"
      ]
    },
    {
      "cell_type": "code",
      "source": [
        "var_height=float(input(\"enter your height --\"))\n",
        "var_name=str(input(\"enter your name--\"))\n",
        "print(\"My name is {0} and height is {1}\".format(var_name,var_height))"
      ],
      "metadata": {
        "id": "l4LgGktSTriA",
        "colab": {
          "base_uri": "https://localhost:8080/"
        },
        "outputId": "6015669b-29b8-4703-f87d-48cc0d380e95"
      },
      "execution_count": null,
      "outputs": [
        {
          "output_type": "stream",
          "name": "stdout",
          "text": [
            "enter your height --13.22\n",
            "enter your name--rrrr\n",
            "My name is rrrr and height is 13.22\n"
          ]
        }
      ]
    },
    {
      "cell_type": "code",
      "source": [
        "var_str=str(input(\"Enter a single character--\"))\n",
        "if (len(var_str)>1):\n",
        "  print(\"do not enter more than 1 character\")\n",
        "  var_str=str(input(\"Enter a single character--\"))\n",
        "  print(ord(var_str))\n",
        "else :\n",
        "  print(ord(var_str))"
      ],
      "metadata": {
        "id": "FOG4A97-VDQ9",
        "colab": {
          "base_uri": "https://localhost:8080/"
        },
        "outputId": "6e083a39-3222-4e58-df02-5a191058f9b0"
      },
      "execution_count": 2,
      "outputs": [
        {
          "output_type": "stream",
          "name": "stdout",
          "text": [
            "Enter a single character--we\n",
            "do not enter more than 1 character\n",
            "Enter a single character--A\n",
            "65\n"
          ]
        }
      ]
    }
  ]
}