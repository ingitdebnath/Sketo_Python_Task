{
  "nbformat": 4,
  "nbformat_minor": 0,
  "metadata": {
    "colab": {
      "provenance": []
    },
    "kernelspec": {
      "name": "python3",
      "display_name": "Python 3"
    },
    "language_info": {
      "name": "python"
    }
  },
  "cells": [
    {
      "cell_type": "code",
      "execution_count": 4,
      "metadata": {
        "colab": {
          "base_uri": "https://localhost:8080/"
        },
        "id": "41Ls4-lMPpF8",
        "outputId": "a5764f37-4763-4509-e0af-f507d6942eaf"
      },
      "outputs": [
        {
          "output_type": "stream",
          "name": "stdout",
          "text": [
            "enter 1st number--110\n",
            "enter 2nd number--44\n",
            "44\n",
            "110\n"
          ]
        }
      ],
      "source": [
        "a=int(input('enter 1st number--'))\n",
        "b=int(input('enter 2nd number--'))\n",
        "var_temp=a\n",
        "a=b\n",
        "b=var_temp\n",
        "print(a)\n",
        "print(b)\n"
      ]
    },
    {
      "cell_type": "code",
      "source": [],
      "metadata": {
        "id": "_jxvtzkYTT3f"
      },
      "execution_count": null,
      "outputs": []
    },
    {
      "cell_type": "markdown",
      "source": [
        "# New Section"
      ],
      "metadata": {
        "id": "RAv4NvA_Q0kP"
      }
    }
  ]
}