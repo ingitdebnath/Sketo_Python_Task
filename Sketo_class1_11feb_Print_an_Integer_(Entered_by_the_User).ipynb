{
  "nbformat": 4,
  "nbformat_minor": 0,
  "metadata": {
    "colab": {
      "provenance": []
    },
    "kernelspec": {
      "name": "python3",
      "display_name": "Python 3"
    },
    "language_info": {
      "name": "python"
    }
  },
  "cells": [
    {
      "cell_type": "code",
      "execution_count": 1,
      "metadata": {
        "colab": {
          "base_uri": "https://localhost:8080/"
        },
        "id": "87EDKrlLjR71",
        "outputId": "71db0ff2-95b1-437d-daf9-708d19f8c007"
      },
      "outputs": [
        {
          "output_type": "stream",
          "name": "stdout",
          "text": [
            "Enter the Integer number 34\n",
            "34\n"
          ]
        }
      ],
      "source": [
        "var_1=int(input(\"Enter the Integer number \"))\n",
        "print(var_1)"
      ]
    }
  ]
}