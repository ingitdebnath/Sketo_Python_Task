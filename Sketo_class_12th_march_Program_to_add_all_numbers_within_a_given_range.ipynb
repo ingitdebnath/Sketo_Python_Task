{
  "nbformat": 4,
  "nbformat_minor": 0,
  "metadata": {
    "colab": {
      "provenance": []
    },
    "kernelspec": {
      "name": "python3",
      "display_name": "Python 3"
    },
    "language_info": {
      "name": "python"
    }
  },
  "cells": [
    {
      "cell_type": "code",
      "source": [
        "#USING FOR LOOP\n",
        "var_sum=0\n",
        "var_start=int(input(\"enter start range--\"))\n",
        "var_end=int(input(\"enter end range--\"))\n",
        "\n",
        "for var_loop in range(var_start,var_end+1) :\n",
        "  var_sum = var_sum + var_start\n",
        "  var_start = var_start + 1\n",
        "  \n",
        "print(var_sum)\n"
      ],
      "metadata": {
        "colab": {
          "base_uri": "https://localhost:8080/"
        },
        "id": "GbXFJZFZtdnJ",
        "outputId": "bb7e7e30-0dfb-4a48-d9bc-3973e6ee6b2b"
      },
      "execution_count": 13,
      "outputs": [
        {
          "output_type": "stream",
          "name": "stdout",
          "text": [
            "enter start range--2\n",
            "enter end range--5\n",
            "14\n"
          ]
        }
      ]
    },
    {
      "cell_type": "code",
      "source": [
        "#USING WHILELOOP\n",
        "\n",
        "var_sum=0\n",
        "var_start=int(input(\"enter start range--\"))\n",
        "var_end=int(input(\"enter end range--\"))\n",
        "\n",
        "while(var_start<=var_end) :\n",
        "  var_sum = var_sum + var_start\n",
        "  var_start = var_start + 1\n",
        "  \n",
        "print(var_sum)\n"
      ],
      "metadata": {
        "colab": {
          "base_uri": "https://localhost:8080/"
        },
        "id": "RYsAQkrategl",
        "outputId": "d7639394-a075-4e5a-ddee-387b07317b07"
      },
      "execution_count": 14,
      "outputs": [
        {
          "output_type": "stream",
          "name": "stdout",
          "text": [
            "enter start range--2\n",
            "enter end range--5\n",
            "14\n"
          ]
        }
      ]
    }
  ]
}