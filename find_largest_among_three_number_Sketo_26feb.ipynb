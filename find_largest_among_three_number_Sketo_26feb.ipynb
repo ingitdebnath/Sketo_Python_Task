{
  "nbformat": 4,
  "nbformat_minor": 0,
  "metadata": {
    "colab": {
      "provenance": []
    },
    "kernelspec": {
      "name": "python3",
      "display_name": "Python 3"
    },
    "language_info": {
      "name": "python"
    }
  },
  "cells": [
    {
      "cell_type": "code",
      "execution_count": 3,
      "metadata": {
        "colab": {
          "base_uri": "https://localhost:8080/"
        },
        "id": "Fu7eRCy84-yG",
        "outputId": "c53124ab-b0fe-4f20-d9b5-4889f6523aa1"
      },
      "outputs": [
        {
          "output_type": "stream",
          "name": "stdout",
          "text": [
            "enter first number -- 25\n",
            "enter second number -- 30\n",
            "enter third number -- 27\n",
            "number 30 is largest\n"
          ]
        }
      ],
      "source": [
        "var_num1=int(input(\"enter first number -- \"))\n",
        "var_num2=int(input(\"enter second number -- \"))\n",
        "var_num3=int(input(\"enter third number -- \"))\n",
        "\n",
        "if (var_num1>var_num2 and var_num1>var_num3):\n",
        "  print(\"number\",var_num1,\"is largest among three\")\n",
        "elif (var_num2>var_num1 and var_num2>var_num3):\n",
        "  print(\"number\",var_num2,\"is largest\")\n",
        "else:\n",
        "  print(\"number\",var_num3,\"is largest\")\n",
        "\n"
      ]
    }
  ]
}