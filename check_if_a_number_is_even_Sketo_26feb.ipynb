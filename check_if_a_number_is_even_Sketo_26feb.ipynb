{
  "nbformat": 4,
  "nbformat_minor": 0,
  "metadata": {
    "colab": {
      "provenance": []
    },
    "kernelspec": {
      "name": "python3",
      "display_name": "Python 3"
    },
    "language_info": {
      "name": "python"
    }
  },
  "cells": [
    {
      "cell_type": "code",
      "execution_count": 11,
      "metadata": {
        "colab": {
          "base_uri": "https://localhost:8080/"
        },
        "id": "Fu7eRCy84-yG",
        "outputId": "8a9e924c-5da1-4b42-9ff7-62d7e3ff388b"
      },
      "outputs": [
        {
          "output_type": "stream",
          "name": "stdout",
          "text": [
            "enter a number---45\n",
            "number 45 is ODD \n"
          ]
        }
      ],
      "source": [
        "var_num1=int(input(\"enter a number---\"))\n",
        "\n",
        "\n",
        "if (var_num1%2 == 0):\n",
        "  print(\"number\",var_num1,\"is even\")\n",
        "else:\n",
        "   print(\"number\",var_num1,\"is ODD \")\n",
        "\n",
        "\n"
      ]
    }
  ]
}