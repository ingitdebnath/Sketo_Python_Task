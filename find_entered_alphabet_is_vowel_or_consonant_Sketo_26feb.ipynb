{
  "nbformat": 4,
  "nbformat_minor": 0,
  "metadata": {
    "colab": {
      "provenance": []
    },
    "kernelspec": {
      "name": "python3",
      "display_name": "Python 3"
    },
    "language_info": {
      "name": "python"
    }
  },
  "cells": [
    {
      "cell_type": "code",
      "execution_count": 7,
      "metadata": {
        "colab": {
          "base_uri": "https://localhost:8080/"
        },
        "id": "Fu7eRCy84-yG",
        "outputId": "bd4512cb-017f-4c2f-e284-f528fce8ba7b"
      },
      "outputs": [
        {
          "output_type": "stream",
          "name": "stdout",
          "text": [
            "enter a letterw\n",
            "entered input is consonant\n"
          ]
        }
      ],
      "source": [
        "var_str1=str(input(\"enter a letter\"))\n",
        "\n",
        "#if (len(var_str1==1)):\n",
        "if (var_str1==\"a\" or var_str1==\"e\" or var_str1==\"i\" or var_str1==\"o\" or var_str1==\"u\"):\n",
        "  print(\"entered input is vowel\")\n",
        "else:\n",
        "  print(\"entered input is consonant\")\n",
        "#else:\n",
        " # print(\"user entered more than one alphabet\")\n",
        "\n"
      ]
    }
  ]
}