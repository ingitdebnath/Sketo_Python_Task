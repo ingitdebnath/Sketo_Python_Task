{
  "nbformat": 4,
  "nbformat_minor": 0,
  "metadata": {
    "colab": {
      "provenance": []
    },
    "kernelspec": {
      "name": "python3",
      "display_name": "Python 3"
    },
    "language_info": {
      "name": "python"
    }
  },
  "cells": [
    {
      "cell_type": "code",
      "execution_count": 3,
      "metadata": {
        "colab": {
          "base_uri": "https://localhost:8080/"
        },
        "id": "87EDKrlLjR71",
        "outputId": "52ffff68-a6ce-4f3a-cf49-3bd0417a054e"
      },
      "outputs": [
        {
          "output_type": "stream",
          "name": "stdout",
          "text": [
            "Enter the first number 45\n",
            "Enter the second number 2\n",
            "product of above two number is 90.0\n"
          ]
        }
      ],
      "source": [
        "var_5=float(input(\"Enter the first number \"))\n",
        "var_4=float(input(\"Enter the second number \"))\n",
        "var_6=var_4*var_5\n",
        "print(\"product of above two number is\",var_6)"
      ]
    }
  ]
}