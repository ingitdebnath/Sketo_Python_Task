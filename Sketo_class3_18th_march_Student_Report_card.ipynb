{
  "nbformat": 4,
  "nbformat_minor": 0,
  "metadata": {
    "colab": {
      "provenance": []
    },
    "kernelspec": {
      "name": "python3",
      "display_name": "Python 3"
    },
    "language_info": {
      "name": "python"
    }
  },
  "cells": [
    {
      "cell_type": "code",
      "source": [
        "var_name =str(input(\"Name --\"))\n",
        "var_schoolname = str(input(\"School Name --\"))\n",
        "var1=int(input(\"Enter JAVA marks out of 100 --\"))\n",
        "var2=int(input(\"Enter c++ marks out of 100 --\"))\n",
        "var3=int(input(\"Enter JSP marks out of 100 --\"))\n",
        "var4=int(input(\"Enter python marks out of 100 --\"))\n",
        "var5=int(input(\"Enter JAVA script marks out of 100 --\"))\n",
        "var6=int(input(\"Enter go marks out of 100 --\"))\n",
        "\n",
        "print(\"School --\",var_schoolname)\n",
        "print(\"Student name---\",var_name)\n",
        "\n",
        "if (var1>80) :\n",
        "  var_grade=\"A\"\n",
        "elif (var1>40 and var1<=80) :\n",
        "  var_grade=\"B\"\n",
        "else :\n",
        "  var_grade=\"C\"\n",
        "\n",
        "print(\"JAVA        =\",var1,\"/100 - Grade \",var_grade)\n",
        "\n",
        "if (var2>80) :\n",
        "  var_grade=\"A\"\n",
        "elif (var2>40 and var2<=80) :\n",
        "  var_grade=\"B\"\n",
        "else :\n",
        "  var_grade=\"C\"\n",
        "\n",
        "print(\"C++         =\",var2,\"/100 - Grade \",var_grade)\n",
        "\n",
        "if (var3>80) :\n",
        "  var_grade=\"A\"\n",
        "elif (var3>40 and var3<=80) :\n",
        "  var_grade=\"B\"\n",
        "else :\n",
        "  var_grade=\"C\"\n",
        "\n",
        "print(\"JSP         =\",var3,\"/100 - Grade \",var_grade)\n",
        "\n",
        "if (var4>80) :\n",
        "  var_grade=\"A\"\n",
        "elif (var4>40 and var4<=80) :\n",
        "  var_grade=\"B\"\n",
        "else :\n",
        "  var_grade=\"C\"\n",
        "\n",
        "print(\"PYTHON      =\",var4,\"/100 - Grade \",var_grade)\n",
        "\n",
        "if (var5>80) :\n",
        "  var_grade=\"A\"\n",
        "elif (var5>40 and var5<=80) :\n",
        "  var_grade=\"B\"\n",
        "else :\n",
        "  var_grade=\"C\"\n",
        "\n",
        "print(\"JAVAscript  =\",var5,\"/100 - Grade \",var_grade)\n",
        "\n",
        "if (var6>80) :\n",
        "  var_grade=\"A\"\n",
        "elif (var6>40 and var6<=80) :\n",
        "  var_grade=\"B\"\n",
        "else :\n",
        "  var_grade=\"C\"\n",
        "\n",
        "print(\"GO          =\",var6,\"/100 - Grade \",var_grade)\n",
        "\n",
        "print('------------------------------')\n",
        "print(\"Total =\",var1+var2+var3+var4+var5+var6)\n",
        "var7=((var1+var2+var3+var4+var5+var6)/600)*100\n",
        "print(\"percentage =\",var7,\"%\")\n",
        "\n",
        "if (var7>80) :\n",
        "  var_grade=\"A\"\n",
        "elif (var7>40 and var7<=80) :\n",
        "  var_grade=\"B\"\n",
        "else :\n",
        "  var_grade=\"C\"\n",
        "\n",
        "print(\"Overall Grade =\",var_grade)"
      ],
      "metadata": {
        "id": "_jxvtzkYTT3f",
        "colab": {
          "base_uri": "https://localhost:8080/"
        },
        "outputId": "88c30e9f-4fb4-4f4b-e6cf-68300917fa70"
      },
      "execution_count": 3,
      "outputs": [
        {
          "output_type": "stream",
          "name": "stdout",
          "text": [
            "Name --ewew\n",
            "School Name --2wee\n",
            "Enter JAVA marks out of 100 --30\n",
            "Enter c++ marks out of 100 --34\n",
            "Enter JSP marks out of 100 --98\n",
            "Enter python marks out of 100 --74\n",
            "Enter JAVA script marks out of 100 --65\n",
            "Enter go marks out of 100 --25\n",
            "School -- 2wee\n",
            "Student name--- ewew\n",
            "JAVA        = 30 /100 - Grade  C\n",
            "C++         = 34 /100 - Grade  C\n",
            "JSP         = 98 /100 - Grade  A\n",
            "PYTHON      = 74 /100 - Grade  B\n",
            "JAVAscript  = 65 /100 - Grade  B\n",
            "GO          = 25 /100 - Grade  C\n",
            "------------------------------\n",
            "Total = 326\n",
            "percentage = 54.333333333333336 %\n",
            "Overall Grade = B\n"
          ]
        }
      ]
    },
    {
      "cell_type": "markdown",
      "source": [
        "# New Section"
      ],
      "metadata": {
        "id": "RAv4NvA_Q0kP"
      }
    }
  ]
}