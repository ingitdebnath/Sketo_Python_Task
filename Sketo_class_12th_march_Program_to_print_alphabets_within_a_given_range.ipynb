{
  "nbformat": 4,
  "nbformat_minor": 0,
  "metadata": {
    "colab": {
      "provenance": []
    },
    "kernelspec": {
      "name": "python3",
      "display_name": "Python 3"
    },
    "language_info": {
      "name": "python"
    }
  },
  "cells": [
    {
      "cell_type": "code",
      "source": [
        "var_startcharacter=str(input(\"enter start character --\"))\n",
        "var_endcharacter=str(input(\"enter end character --\"))\n",
        "\n",
        "var_interger_startcharacter=ord(var_startcharacter)\n",
        "var_interger_endcharacter=ord(var_endcharacter)\n",
        "\n",
        "if(var_interger_startcharacter>var_interger_endcharacter) :\n",
        "  print(\"Enter only A to Z Range\")\n",
        "else :\n",
        "   for i in range(var_interger_startcharacter,var_interger_endcharacter+1) :\n",
        "       print(chr(i))\n",
        "\n"
      ],
      "metadata": {
        "colab": {
          "base_uri": "https://localhost:8080/"
        },
        "id": "DPIGfmWPoyvs",
        "outputId": "6b85a5f0-3b4c-4271-be17-006ead25b679"
      },
      "execution_count": 7,
      "outputs": [
        {
          "output_type": "stream",
          "name": "stdout",
          "text": [
            "enter start character --w\n",
            "enter end character --e\n",
            "Enter only A to Z Range\n"
          ]
        }
      ]
    }
  ]
}